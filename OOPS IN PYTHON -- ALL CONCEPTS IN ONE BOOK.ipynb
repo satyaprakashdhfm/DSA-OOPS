{
 "cells": [
  {
   "cell_type": "markdown",
   "metadata": {},
   "source": [
    "# Main Concepts of Object-Oriented Programming (OOPs) \n",
    "Class,\n",
    "Objects,\n",
    "Polymorphism,\n",
    "Encapsulation,\n",
    "Inheritance,\n",
    "Data Abstraction,\n",
    " "
   ]
  },
  {
   "cell_type": "markdown",
   "metadata": {},
   "source": [
    "Class: group of similar objects -- blue print  or templates in which objects are created"
   ]
  },
  {
   "cell_type": "markdown",
   "metadata": {},
   "source": [
    "Object: is an instance of class --different types of products of class model"
   ]
  },
  {
   "cell_type": "markdown",
   "metadata": {},
   "source": [
    " Methods:functions or definations in objects.\n",
    "    types:\n",
    "        class method\n",
    "        instance method\n",
    "        static method"
   ]
  },
  {
   "cell_type": "code",
   "execution_count": null,
   "metadata": {},
   "outputs": [],
   "source": [
    "# Python program to demonstrate\n",
    "# use of class method and static method.\n",
    "from datetime import date\n",
    "\n",
    "\n",
    "class Person:\n",
    "\tdef __init__(self, name, age):\n",
    "\t\tself.name = name\n",
    "\t\tself.age = age\n",
    "\n",
    "\t# a class method to create a Person object by birth year.\n",
    "\t@classmethod\n",
    "\tdef fromBirthYear(cls, name, year):\n",
    "\t\treturn cls(name, date.today().year - year)\n",
    "\n",
    "\t# a static method to check if a Person is adult or not.\n",
    "\t@staticmethod\n",
    "\tdef isAdult(age):\n",
    "\t\treturn age > 18\n",
    "\n",
    "\n",
    "person1 = Person('mayank', 21)\n",
    "person2 = Person.fromBirthYear('mayank', 1996)\n",
    "\n",
    "print(person1.age)\n",
    "print(person2.age)\n",
    "\n",
    "# print the result\n",
    "print(Person.isAdult(22))\n"
   ]
  },
  {
   "cell_type": "markdown",
   "metadata": {},
   "source": [
    "Variables:\n",
    "    types:\n",
    "    class variables\n",
    "    instance variables"
   ]
  },
  {
   "cell_type": "code",
   "execution_count": null,
   "metadata": {},
   "outputs": [],
   "source": [
    "# Python program to show that the variables with a value\n",
    "# assigned in class declaration, are class variables\n",
    "\n",
    "# Class for Computer Science Student\n",
    "class CSStudent:\n",
    "\tstream = 'cse'\t\t\t\t # Class Variable\n",
    "\tdef __init__(self,name,roll):\n",
    "\t\tself.name = name\t\t # Instance Variable\n",
    "\t\tself.roll = roll\t\t # Instance Variable\n",
    "\n",
    "# Objects of CSStudent class\n",
    "a = CSStudent('Geek', 1)\n",
    "b = CSStudent('Nerd', 2)\n",
    "\n",
    "print(a.stream) # prints \"cse\"\n",
    "print(b.stream) # prints \"cse\"\n",
    "print(a.name) # prints \"Geek\"\n",
    "print(b.name) # prints \"Nerd\"\n",
    "print(a.roll) # prints \"1\"\n",
    "print(b.roll) # prints \"2\"\n",
    "\n",
    "# Class variables can be accessed using class\n",
    "# name also\n",
    "print(CSStudent.stream) # prints \"cse\"\n",
    "\n",
    "# Now if we change the stream for just a it won't be changed for b\n",
    "a.stream = 'ece'\n",
    "print(a.stream) # prints 'ece'\n",
    "print(b.stream) # prints 'cse'\n",
    "\n",
    "# To change the stream for all instances of the class we can change it\n",
    "# directly from the class\n",
    "CSStudent.stream = 'mech'\n",
    "\n",
    "print(a.stream) # prints 'ece'\n",
    "print(b.stream) # prints 'mech'\n"
   ]
  },
  {
   "cell_type": "code",
   "execution_count": null,
   "metadata": {},
   "outputs": [],
   "source": []
  },
  {
   "cell_type": "markdown",
   "metadata": {},
   "source": [
    "Inheritence:is the capbility of one class to derive or inherit the properties from another class"
   ]
  },
  {
   "cell_type": "markdown",
   "metadata": {},
   "source": [
    "Types of Inheritance – \n",
    "Single Inheritance:\n",
    "Single-level inheritance enables a derived class to inherit characteristics from a single-parent class.\n",
    "\n",
    "Multilevel Inheritance:\n",
    "Multi-level inheritance enables a derived class to inherit properties from an immediate parent class which in turn inherits properties from his parent class.\n",
    "\n",
    "Hierarchical Inheritance:\n",
    "Hierarchical level inheritance enables more than one derived class to inherit properties from a parent class.\n",
    "\n",
    "Multiple Inheritance:\n",
    "Multiple level inheritance enables one derived class to inherit properties from more than one base class."
   ]
  },
  {
   "cell_type": "code",
   "execution_count": null,
   "metadata": {},
   "outputs": [],
   "source": [
    "# Python code to demonstrate how parent constructors\n",
    "# are called.\n",
    "\n",
    "# parent class\n",
    "class Person(object):\n",
    "\n",
    "\t# __init__ is known as the constructor\n",
    "\tdef __init__(self, name, idnumber):\n",
    "\t\tself.name = name\n",
    "\t\tself.idnumber = idnumber\n",
    "\n",
    "\tdef display(self):\n",
    "\t\tprint(self.name)\n",
    "\t\tprint(self.idnumber)\n",
    "\t\t\n",
    "\tdef details(self):\n",
    "\t\tprint(\"My name is {}\".format(self.name))\n",
    "\t\tprint(\"IdNumber: {}\".format(self.idnumber))\n",
    "\t\n",
    "# child class\n",
    "class Employee(Person):\n",
    "\tdef __init__(self, name, idnumber, salary, post):\n",
    "\t\tself.salary = salary\n",
    "\t\tself.post = post\n",
    "\n",
    "\t\t# invoking the __init__ of the parent class\n",
    "\t\tPerson.__init__(self, name, idnumber)\n",
    "\t\t\n",
    "\tdef details(self):\n",
    "\t\tprint(\"My name is {}\".format(self.name))\n",
    "\t\tprint(\"IdNumber: {}\".format(self.idnumber))\n",
    "\t\tprint(\"Post: {}\".format(self.post))\n",
    "\n",
    "\n",
    "# creation of an object variable or an instance\n",
    "a = Employee('Rahul', 886012, 200000, \"Intern\")\n",
    "\n",
    "# calling a function of the class Person using\n",
    "# its instance\n",
    "a.display()\n",
    "a.details()\n"
   ]
  },
  {
   "cell_type": "markdown",
   "metadata": {},
   "source": [
    "Polymorphism: accessing of different types of objects--entities(method, operator or object) through same interface\n",
    "            : It refers to the use of a single type entity (method, operator or object) \n",
    "              to represent different types in different scenarios."
   ]
  },
  {
   "cell_type": "code",
   "execution_count": null,
   "metadata": {},
   "outputs": [],
   "source": [
    "\n",
    "        \n",
    "class Bird:\n",
    "\n",
    "\tdef intro(self):\n",
    "\t\tprint(\"There are many types of birds.\")\n",
    "\n",
    "\tdef flight(self):\n",
    "\t\tprint(\"Most of the birds can fly but some cannot.\")\n",
    "\n",
    "class sparrow(Bird):\n",
    "\n",
    "\tdef flight(self):\n",
    "\t\tprint(\"Sparrows can fly.\")\n",
    "\n",
    "class ostrich(Bird):\n",
    "\n",
    "\tdef flight(self):\n",
    "\t\tprint(\"Ostriches cannot fly.\")\n",
    "\n",
    "obj_bird = Bird()\n",
    "obj_spr = sparrow()\n",
    "obj_ost = ostrich()\n",
    "\n",
    "obj_bird.intro()\n",
    "obj_bird.flight()\n",
    "\n",
    "obj_spr.intro()\n",
    "obj_spr.flight()\n",
    "\n",
    "obj_ost.intro()\n",
    "obj_ost.flight()\n"
   ]
  },
  {
   "cell_type": "code",
   "execution_count": null,
   "metadata": {},
   "outputs": [],
   "source": [
    "Compile time polymorphism -- 1.operator overloading , 2.function overloading \n",
    "Run time polymorphism -- virtual functions\n"
   ]
  },
  {
   "cell_type": "markdown",
   "metadata": {},
   "source": [
    "Encapsulation:wraping of data and the methods that work on data with in one unit uses:\n",
    "        data hiding ,\n",
    "        flexibility,\n",
    "        reusability"
   ]
  },
  {
   "cell_type": "code",
   "execution_count": null,
   "metadata": {},
   "outputs": [],
   "source": [
    "Example:\n"
   ]
  },
  {
   "cell_type": "code",
   "execution_count": null,
   "metadata": {},
   "outputs": [],
   "source": [
    "public private proteted\n",
    "### All the class variables are public\n",
    "class Car():\n",
    "    def __init__(self,windows,doors,enginetype):\n",
    "        self.windows=windows\n",
    "        self.doors=doors\n",
    "        self.enginetype=enginetype\n",
    "    "
   ]
  },
  {
   "cell_type": "code",
   "execution_count": null,
   "metadata": {},
   "outputs": [],
   "source": [
    "audi=Car(4,5,\"Diesel\")\n",
    "audi.windows=5\n",
    "audi.windows"
   ]
  },
  {
   "cell_type": "code",
   "execution_count": null,
   "metadata": {},
   "outputs": [],
   "source": [
    "### All the class variables are protected -- only accessed or changed by sub class\n",
    "class Car():\n",
    "    def __init__(self,windows,doors,enginetype):\n",
    "        self._windows=windows\n",
    "        self._doors=doors\n",
    "        self._enginetype=enginetype"
   ]
  },
  {
   "cell_type": "code",
   "execution_count": null,
   "metadata": {},
   "outputs": [],
   "source": [
    "class Truck(Car):\n",
    "    def __init__(self,windows,doors,enginetype,horsepower):\n",
    "        super().__init__(windows,doors,enginetype)\n",
    "        self.horsepowwer=horsepower"
   ]
  },
  {
   "cell_type": "code",
   "execution_count": null,
   "metadata": {},
   "outputs": [],
   "source": [
    "truck=Truck(4,4,\"Diesel\",4000)\n",
    "dir(truck)"
   ]
  },
  {
   "cell_type": "code",
   "execution_count": null,
   "metadata": {},
   "outputs": [],
   "source": [
    "truck._doors=5"
   ]
  },
  {
   "cell_type": "code",
   "execution_count": null,
   "metadata": {},
   "outputs": [],
   "source": [
    "truck._doors"
   ]
  },
  {
   "cell_type": "code",
   "execution_count": null,
   "metadata": {},
   "outputs": [],
   "source": [
    "### private--change only possible by code_signals like name mingling\n",
    "class Car():\n",
    "    def __init__(self,windows,doors,enginetype):\n",
    "        self.__windows=windows\n",
    "        self.__doors=doors\n",
    "        self.__enginetype=enginetype"
   ]
  },
  {
   "cell_type": "code",
   "execution_count": null,
   "metadata": {},
   "outputs": [],
   "source": [
    "audi=Car(4,4,\"Diesel\")\n",
    "audi._Car__doors=5\n",
    "dir(audi)"
   ]
  },
  {
   "cell_type": "code",
   "execution_count": 9,
   "metadata": {},
   "outputs": [
    {
     "name": "stdout",
     "output_type": "stream",
     "text": [
      "21\n"
     ]
    },
    {
     "ename": "AttributeError",
     "evalue": "'Geek' object has no attribute '__age'",
     "output_type": "error",
     "traceback": [
      "\u001b[1;31m---------------------------------------------------------------------------\u001b[0m",
      "\u001b[1;31mAttributeError\u001b[0m                            Traceback (most recent call last)",
      "\u001b[1;32m~\\AppData\\Local\\Temp\\ipykernel_15748\\2980290064.py\u001b[0m in \u001b[0;36m<module>\u001b[1;34m\u001b[0m\n\u001b[0;32m     19\u001b[0m \u001b[0mprint\u001b[0m\u001b[1;33m(\u001b[0m\u001b[0mraj\u001b[0m\u001b[1;33m.\u001b[0m\u001b[0mget__age\u001b[0m\u001b[1;33m(\u001b[0m\u001b[1;33m)\u001b[0m\u001b[1;33m)\u001b[0m\u001b[1;33m\u001b[0m\u001b[1;33m\u001b[0m\u001b[0m\n\u001b[0;32m     20\u001b[0m \u001b[1;33m\u001b[0m\u001b[0m\n\u001b[1;32m---> 21\u001b[1;33m \u001b[0mprint\u001b[0m\u001b[1;33m(\u001b[0m\u001b[0mraj\u001b[0m\u001b[1;33m.\u001b[0m\u001b[0m__age\u001b[0m\u001b[1;33m)\u001b[0m\u001b[1;33m\u001b[0m\u001b[1;33m\u001b[0m\u001b[0m\n\u001b[0m",
      "\u001b[1;31mAttributeError\u001b[0m: 'Geek' object has no attribute '__age'"
     ]
    }
   ],
   "source": [
    "class Geek:\n",
    "    def __init__(self, age = 0):\n",
    "         self.__age = age\n",
    "      \n",
    "    # getter method\n",
    "    def get__age(self):\n",
    "        return self.__age\n",
    "      \n",
    "    # setter method\n",
    "    def set__age(self, x):\n",
    "        self.__age = x\n",
    "  \n",
    "raj = Geek()\n",
    "  \n",
    "# setting the age using setter\n",
    "raj.set__age(21)\n",
    "  \n",
    "# retrieving age using getter\n",
    "print(raj.get__age())\n",
    "  \n",
    "print(raj.__age)"
   ]
  },
  {
   "cell_type": "code",
   "execution_count": null,
   "metadata": {},
   "outputs": [],
   "source": []
  },
  {
   "cell_type": "markdown",
   "metadata": {},
   "source": [
    "Abstraction : Hiding data and showing only imp things.......for easy understanding purpose.....at \n",
    "Encapsulation: Hiding data for protection purpose. They must access it via getter and setter methods.\n",
    "\n",
    "abstraction=data hiding.\n",
    "encapsulation = protection + abstraction"
   ]
  },
  {
   "cell_type": "markdown",
   "metadata": {},
   "source": [
    "In Python : abstraction can be achieved using abstract class and it’s methods.it can be achived by abstract class,virtual and                pure virtual functions\n",
    "\n",
    "In Python : Encapsulation can be achieved by declaring the data members of a class either as private or protected. In Python, \n",
    "    'Private' and 'Protected' are called Access Modifiers, as they modify the access of variables or methods defined in a class"
   ]
  },
  {
   "cell_type": "code",
   "execution_count": null,
   "metadata": {},
   "outputs": [],
   "source": [
    "# object of abstract class cannot be created\n",
    "\n",
    "from abc import ABC, abstractmethod\n",
    "\n",
    "class Polygon(ABC):\n",
    "\n",
    "\t@abstractmethod\n",
    "\tdef noofsides(self):\n",
    "\t\tpass\n",
    "\n",
    "class Triangle(Polygon):\n",
    "\n",
    "\t# overriding abstract method\n",
    "\tdef noofsides(self):\n",
    "\t\tprint(\"I have 3 sides\")\n",
    "\n",
    "class Pentagon(Polygon):\n",
    "\n",
    "\t# overriding abstract method\n",
    "\tdef noofsides(self):\n",
    "\t\tprint(\"I have 5 sides\")\n",
    "\n",
    "class Hexagon(Polygon):\n",
    "\n",
    "\t# overriding abstract method\n",
    "\tdef noofsides(self):\n",
    "\t\tprint(\"I have 6 sides\")\n",
    "\n",
    "class Quadrilateral(Polygon):\n",
    "\n",
    "\t# overriding abstract method\n",
    "\tdef noofsides(self):\n",
    "\t\tprint(\"I have 4 sides\")\n",
    "\n",
    "# Driver code\n",
    "R = Triangle()\n",
    "R.noofsides()\n",
    "\n",
    "K = Quadrilateral()\n",
    "K.noofsides()\n",
    "\n",
    "R = Pentagon()\n",
    "R.noofsides()\n",
    "\n",
    "K = Hexagon()\n",
    "K.noofsides()"
   ]
  },
  {
   "cell_type": "code",
   "execution_count": null,
   "metadata": {},
   "outputs": [],
   "source": [
    "from abc import ABCMeta\n",
    "from abc import abstractmethod\n",
    "class Base(object):\n",
    "    @abstractmethod\n",
    "    def virtualMethod(self):\n",
    "         pass\n",
    "    def usesVirtualMethod(self):\n",
    "        return self.virtualMethod() + 1\n",
    "\n",
    "class Derived(Base):\n",
    "    def virtualMethod(self):\n",
    "        return 1\n",
    "\n",
    "print(Derived().usesVirtualMethod())"
   ]
  },
  {
   "cell_type": "markdown",
   "metadata": {},
   "source": [
    "BEFORE DECORATORS:\n",
    "    \n",
    "First Class Objects\n",
    "In Python, functions are first class objects which means that functions in Python can be used or passed as arguments.\n",
    "Properties of first class functions:\n",
    "            A function is an instance of the Object type.\n",
    "            You can store the function in a variable.\n",
    "            You can pass the function as a parameter to another function.\n",
    "            You can return the function from a function.\n",
    "            You can store them in data structures such as hash tables, lists, …"
   ]
  },
  {
   "cell_type": "code",
   "execution_count": null,
   "metadata": {},
   "outputs": [],
   "source": [
    "Example 1: Treating the functions as objects.\n",
    "# Python program to illustrate functions\n",
    "# can be treated as objects\n",
    "def shout(text):\n",
    "\treturn text.upper()\n",
    "\n",
    "print(shout('Hello'))\n",
    "\n",
    "yell = shout\n",
    "\n",
    "print(yell('Hello'))\n"
   ]
  },
  {
   "cell_type": "code",
   "execution_count": null,
   "metadata": {},
   "outputs": [],
   "source": [
    "Example 2: Passing the function as an argument \n",
    "# Python program to illustrate functions\n",
    "# can be passed as arguments to other functions\n",
    "def shout(text):\n",
    "\treturn text.upper()\n",
    "\n",
    "def whisper(text):\n",
    "\treturn text.lower()\n",
    "\n",
    "def greet(func):\n",
    "\t# storing the function in a variable\n",
    "\tgreeting = func(\"\"\"Hi, I am created by a function passed as an argument.\"\"\")\n",
    "\tprint (greeting)\n",
    "\n",
    "greet(shout)\n",
    "greet(whisper)\n"
   ]
  },
  {
   "cell_type": "code",
   "execution_count": null,
   "metadata": {},
   "outputs": [],
   "source": [
    "Example 3: Returning functions from another function.\n",
    "# Python program to illustrate functions\n",
    "# Functions can return another function\n",
    "\n",
    "def create_adder(x):\n",
    "\tdef adder(y):\n",
    "\t\treturn x+y\n",
    "\n",
    "\treturn adder\n",
    "\n",
    "add_15 = create_adder(15)\n",
    "\n",
    "print(add_15(10))\n"
   ]
  },
  {
   "cell_type": "markdown",
   "metadata": {},
   "source": [
    "## function copy\n",
    "## closures\n",
    "## decorators"
   ]
  },
  {
   "cell_type": "code",
   "execution_count": 14,
   "metadata": {},
   "outputs": [],
   "source": [
    "## function copy\n",
    "## closures\n",
    "## decorators\n",
    "def welcome():\n",
    "    return \"Welcome to Krish Naik Youtube Channel\"\n",
    "wel=welcome()\n",
    "del welcome\n"
   ]
  },
  {
   "cell_type": "code",
   "execution_count": 15,
   "metadata": {},
   "outputs": [
    {
     "ename": "NameError",
     "evalue": "name 'welcome' is not defined",
     "output_type": "error",
     "traceback": [
      "\u001b[1;31m---------------------------------------------------------------------------\u001b[0m",
      "\u001b[1;31mNameError\u001b[0m                                 Traceback (most recent call last)",
      "\u001b[1;32m~\\AppData\\Local\\Temp\\ipykernel_976\\241228648.py\u001b[0m in \u001b[0;36m<module>\u001b[1;34m\u001b[0m\n\u001b[1;32m----> 1\u001b[1;33m \u001b[0mwelcome\u001b[0m\u001b[1;33m(\u001b[0m\u001b[1;33m)\u001b[0m\u001b[1;33m\u001b[0m\u001b[1;33m\u001b[0m\u001b[0m\n\u001b[0m",
      "\u001b[1;31mNameError\u001b[0m: name 'welcome' is not defined"
     ]
    }
   ],
   "source": [
    "welcome()"
   ]
  },
  {
   "cell_type": "code",
   "execution_count": 16,
   "metadata": {},
   "outputs": [
    {
     "data": {
      "text/plain": [
       "'Welcome to Krish Naik Youtube Channel'"
      ]
     },
     "execution_count": 16,
     "metadata": {},
     "output_type": "execute_result"
    }
   ],
   "source": [
    "wel"
   ]
  },
  {
   "cell_type": "code",
   "execution_count": 7,
   "metadata": {},
   "outputs": [],
   "source": [
    "### Closures\n",
    "def main_welcome(msg):\n",
    "   \n",
    "    def sub_welcome_class():\n",
    "        print(\"Welcome To Krish Naik Youtube Channel\")\n",
    "        print(msg)\n",
    "        print(\"Please subscribe Krish channel\")\n",
    "    return sub_welcome_class()"
   ]
  },
  {
   "cell_type": "code",
   "execution_count": null,
   "metadata": {},
   "outputs": [],
   "source": []
  },
  {
   "cell_type": "code",
   "execution_count": 8,
   "metadata": {},
   "outputs": [
    {
     "name": "stdout",
     "output_type": "stream",
     "text": [
      "Welcome To Krish Naik Youtube Channel\n",
      "Krish\n",
      "Please subscribe Krish channel\n"
     ]
    }
   ],
   "source": [
    "main_welcome(\"Krish\")"
   ]
  },
  {
   "cell_type": "code",
   "execution_count": 9,
   "metadata": {},
   "outputs": [],
   "source": [
    "### Closures & initial Decorators\n",
    "def main_welcome(func):\n",
    "   \n",
    "    def sub_welcome_class():\n",
    "        print(\"Welcome To Krish Naik Youtube Channel\")\n",
    "        print(func([1,2,3,4,5,6]))\n",
    "        print(\"Please subscribe Krish channel\")\n",
    "    return sub_welcome_class()"
   ]
  },
  {
   "cell_type": "code",
   "execution_count": 10,
   "metadata": {},
   "outputs": [
    {
     "name": "stdout",
     "output_type": "stream",
     "text": [
      "Welcome To Krish Naik Youtube Channel\n",
      "6\n",
      "Please subscribe Krish channel\n"
     ]
    }
   ],
   "source": [
    "main_welcome(len)"
   ]
  },
  {
   "cell_type": "code",
   "execution_count": 11,
   "metadata": {},
   "outputs": [],
   "source": [
    "### Decorators:A decorator is a design pattern in Python that allows a user to add new functionality to \n",
    "###            an existing object without modifying its structure\n",
    "def main_welcome(func):\n",
    "   \n",
    "    def sub_welcome_class():\n",
    "        print(\"Welcome To Krish Naik Youtube Channel\")\n",
    "        func()\n",
    "        print(\"Please subscribe Krish channel\")\n",
    "    return sub_welcome_class()"
   ]
  },
  {
   "cell_type": "code",
   "execution_count": 12,
   "metadata": {},
   "outputs": [
    {
     "name": "stdout",
     "output_type": "stream",
     "text": [
      "Welcome To Krish Naik Youtube Channel\n",
      "This is Krish youtube channel\n",
      "Please subscribe Krish channel\n"
     ]
    }
   ],
   "source": [
    "@main_welcome\n",
    "def channel_name():\n",
    "    print(\"This is Krish youtube channel\")"
   ]
  },
  {
   "cell_type": "code",
   "execution_count": 13,
   "metadata": {},
   "outputs": [
    {
     "name": "stdout",
     "output_type": "stream",
     "text": [
      "Welcome To Krish Naik Youtube Channel\n"
     ]
    },
    {
     "ename": "TypeError",
     "evalue": "'NoneType' object is not callable",
     "output_type": "error",
     "traceback": [
      "\u001b[1;31m---------------------------------------------------------------------------\u001b[0m",
      "\u001b[1;31mTypeError\u001b[0m                                 Traceback (most recent call last)",
      "\u001b[1;32m~\\AppData\\Local\\Temp\\ipykernel_976\\63969360.py\u001b[0m in \u001b[0;36m<module>\u001b[1;34m\u001b[0m\n\u001b[1;32m----> 1\u001b[1;33m \u001b[0ma\u001b[0m\u001b[1;33m=\u001b[0m\u001b[0mmain_welcome\u001b[0m\u001b[1;33m(\u001b[0m\u001b[0mchannel_name\u001b[0m\u001b[1;33m)\u001b[0m\u001b[1;33m\u001b[0m\u001b[1;33m\u001b[0m\u001b[0m\n\u001b[0m",
      "\u001b[1;32m~\\AppData\\Local\\Temp\\ipykernel_976\\1735319246.py\u001b[0m in \u001b[0;36mmain_welcome\u001b[1;34m(func)\u001b[0m\n\u001b[0;32m      7\u001b[0m         \u001b[0mfunc\u001b[0m\u001b[1;33m(\u001b[0m\u001b[1;33m)\u001b[0m\u001b[1;33m\u001b[0m\u001b[1;33m\u001b[0m\u001b[0m\n\u001b[0;32m      8\u001b[0m         \u001b[0mprint\u001b[0m\u001b[1;33m(\u001b[0m\u001b[1;34m\"Please subscribe Krish channel\"\u001b[0m\u001b[1;33m)\u001b[0m\u001b[1;33m\u001b[0m\u001b[1;33m\u001b[0m\u001b[0m\n\u001b[1;32m----> 9\u001b[1;33m     \u001b[1;32mreturn\u001b[0m \u001b[0msub_welcome_class\u001b[0m\u001b[1;33m(\u001b[0m\u001b[1;33m)\u001b[0m\u001b[1;33m\u001b[0m\u001b[1;33m\u001b[0m\u001b[0m\n\u001b[0m",
      "\u001b[1;32m~\\AppData\\Local\\Temp\\ipykernel_976\\1735319246.py\u001b[0m in \u001b[0;36msub_welcome_class\u001b[1;34m()\u001b[0m\n\u001b[0;32m      5\u001b[0m     \u001b[1;32mdef\u001b[0m \u001b[0msub_welcome_class\u001b[0m\u001b[1;33m(\u001b[0m\u001b[1;33m)\u001b[0m\u001b[1;33m:\u001b[0m\u001b[1;33m\u001b[0m\u001b[1;33m\u001b[0m\u001b[0m\n\u001b[0;32m      6\u001b[0m         \u001b[0mprint\u001b[0m\u001b[1;33m(\u001b[0m\u001b[1;34m\"Welcome To Krish Naik Youtube Channel\"\u001b[0m\u001b[1;33m)\u001b[0m\u001b[1;33m\u001b[0m\u001b[1;33m\u001b[0m\u001b[0m\n\u001b[1;32m----> 7\u001b[1;33m         \u001b[0mfunc\u001b[0m\u001b[1;33m(\u001b[0m\u001b[1;33m)\u001b[0m\u001b[1;33m\u001b[0m\u001b[1;33m\u001b[0m\u001b[0m\n\u001b[0m\u001b[0;32m      8\u001b[0m         \u001b[0mprint\u001b[0m\u001b[1;33m(\u001b[0m\u001b[1;34m\"Please subscribe Krish channel\"\u001b[0m\u001b[1;33m)\u001b[0m\u001b[1;33m\u001b[0m\u001b[1;33m\u001b[0m\u001b[0m\n\u001b[0;32m      9\u001b[0m     \u001b[1;32mreturn\u001b[0m \u001b[0msub_welcome_class\u001b[0m\u001b[1;33m(\u001b[0m\u001b[1;33m)\u001b[0m\u001b[1;33m\u001b[0m\u001b[1;33m\u001b[0m\u001b[0m\n",
      "\u001b[1;31mTypeError\u001b[0m: 'NoneType' object is not callable"
     ]
    }
   ],
   "source": [
    "a=main_welcome(channel_name)"
   ]
  },
  {
   "cell_type": "code",
   "execution_count": null,
   "metadata": {},
   "outputs": [],
   "source": [
    "CHANINIG DECORATORS?"
   ]
  },
  {
   "cell_type": "markdown",
   "metadata": {},
   "source": [
    "VIRTUAL AND PURE VIRTUAL FUNCTIONS:\n",
    " --->In python all methods are virtuals..Sure, and you don't even have to define a method in the base class.In Python methods \n",
    " are better than virtual - they're completely dynamic, as the typing in Python is duck typing.\n"
   ]
  },
  {
   "cell_type": "markdown",
   "metadata": {},
   "source": [
    "# Duck typing"
   ]
  },
  {
   "cell_type": "markdown",
   "metadata": {},
   "source": [
    " Duck typing: where the type or the class of an object is less important than the method it defines. \n",
    "              Using Duck Typing, we do not check types at all. Instead, we check for the presence\n",
    "              of a given method or attribute."
   ]
  },
  {
   "cell_type": "markdown",
   "metadata": {},
   "source": [
    "Polymorphism is the ability of object of different types to be handled by a common interface. While duck typing,\n",
    " is a kind of dynamic typing that allows objects of different types to respond to the same methods."
   ]
  },
  {
   "cell_type": "code",
   "execution_count": null,
   "metadata": {},
   "outputs": [],
   "source": [
    "“If it looks like a duck and quacks like a duck, it’s a duck”"
   ]
  },
  {
   "cell_type": "code",
   "execution_count": 1,
   "metadata": {},
   "outputs": [
    {
     "name": "stdout",
     "output_type": "stream",
     "text": [
      "This chicken is walking\n",
      "This chicken is clucking\n",
      "You caught the critter!\n"
     ]
    }
   ],
   "source": [
    "class Duck:\n",
    "\n",
    "    def walk(self):\n",
    "        print(\"This duck is walking\")\n",
    "\n",
    "    def talk(self):\n",
    "        print(\"This duck is qwuacking\")\n",
    "\n",
    "class Chicken:\n",
    "\n",
    "    def walk(self):\n",
    "        print(\"This chicken is walking\")\n",
    "\n",
    "    def talk(self):\n",
    "        print(\"This chicken is clucking\")\n",
    "\n",
    "class Person():\n",
    "\n",
    "    def catch(self, duck):\n",
    "        duck.walk()\n",
    "        duck.talk()\n",
    "        print(\"You caught the critter!\")\n",
    "\n",
    "\n",
    "duck = Duck()\n",
    "chicken = Chicken()\n",
    "person = Person()\n",
    "\n",
    "person.catch(chicken)"
   ]
  },
  {
   "cell_type": "markdown",
   "metadata": {},
   "source": [
    "# Dunner or magic methods:"
   ]
  },
  {
   "cell_type": "code",
   "execution_count": null,
   "metadata": {},
   "outputs": [],
   "source": [
    "Dunner or magic methods:\n",
    "    like __repre__"
   ]
  },
  {
   "cell_type": "code",
   "execution_count": 3,
   "metadata": {},
   "outputs": [
    {
     "name": "stdout",
     "output_type": "stream",
     "text": [
      "Test a:1234 b:5678\n"
     ]
    }
   ],
   "source": [
    "class Test:\n",
    "\tdef __init__(self, a, b):\n",
    "\t\tself.a = a\n",
    "\t\tself.b = b\n",
    "\n",
    "\tdef __repr__(self):\n",
    "\t\treturn \"Test a:%s b:%s\" % (self.a, self.b)\n",
    "\n",
    "# Driver Code\t\t\n",
    "t = Test(1234, 5678)\n",
    "print(t)"
   ]
  },
  {
   "cell_type": "markdown",
   "metadata": {},
   "source": [
    "# constructor and destructor"
   ]
  },
  {
   "cell_type": "code",
   "execution_count": null,
   "metadata": {},
   "outputs": [],
   "source": [
    "\n",
    "Constructors are generally used for instantiating an object\n",
    "Destructors are called when an object gets destroyed\n",
    " \n",
    "class Employee:\n",
    "\n",
    "\t# Initializing\n",
    "\tdef __init__(self):\n",
    "\t\tprint('Employee created.')\n",
    "\n",
    "\t# Deleting (Calling destructor)\n",
    "\tdef __del__(self):\n",
    "\t\tprint('Destructor called, Employee deleted.')\n",
    "\n",
    "obj = Employee()\n",
    "del obj\n",
    "\n"
   ]
  },
  {
   "cell_type": "markdown",
   "metadata": {},
   "source": [
    "python can have multiple constructor and no multiple destructor"
   ]
  },
  {
   "cell_type": "markdown",
   "metadata": {},
   "source": [
    "python multiple constructor can be achieved by:\n",
    "    Overloading constructors based on arguments.\n",
    "    Calling methods from __init__.\n",
    "    Using @classmethod decorator."
   ]
  },
  {
   "cell_type": "markdown",
   "metadata": {},
   "source": [
    "# operator overloading:"
   ]
  },
  {
   "cell_type": "code",
   "execution_count": null,
   "metadata": {},
   "outputs": [],
   "source": [
    "operator overloading:\n",
    "    changing of operator work\n",
    "    When we use an operator on user defined data types then automatically a special function \n",
    "    or magic function associated with that operator is invoked. Changing the behavior of operator\n",
    "    is as simple as changing the behavior of method or function\n",
    "example:\n",
    "# Python Program illustrate how\n",
    "# to overload an binary + operator\n",
    "\n",
    "class A:\n",
    "\tdef __init__(self, a):\n",
    "\t\tself.a = a\n",
    "\n",
    "\t# adding two objects\n",
    "\tdef __add__(self, o):\n",
    "\t\treturn self.a + o.a\n",
    "ob1 = A(1)\n",
    "ob2 = A(2)\n",
    "ob3 = A(\"Geeks\")\n",
    "ob4 = A(\"For\")\n",
    "\n",
    "print(ob1 + ob2)\n",
    "print(ob3 + ob4)\n"
   ]
  },
  {
   "cell_type": "code",
   "execution_count": 1,
   "metadata": {},
   "outputs": [
    {
     "ename": "SyntaxError",
     "evalue": "invalid syntax (3350375932.py, line 1)",
     "output_type": "error",
     "traceback": [
      "\u001b[1;36m  File \u001b[1;32m\"C:\\Users\\surya\\AppData\\Local\\Temp\\ipykernel_5224\\3350375932.py\"\u001b[1;36m, line \u001b[1;32m1\u001b[0m\n\u001b[1;33m    Python magic methods or special functions for operator overloading\u001b[0m\n\u001b[1;37m               ^\u001b[0m\n\u001b[1;31mSyntaxError\u001b[0m\u001b[1;31m:\u001b[0m invalid syntax\n"
     ]
    }
   ],
   "source": [
    "Python magic methods are special functions for operator overloading\n",
    "\n",
    "Binary Operators:\n",
    "    \n",
    "Operator\tMagic Method\n",
    "\n",
    "+\t__add__(self, other)\n",
    "–\t__sub__(self, other)\n",
    "*\t__mul__(self, other)\n",
    "/\t__truediv__(self, other)\n",
    "//\t__floordiv__(self, other)\n",
    "%\t__mod__(self, other)\n",
    "**\t__pow__(self, other)\n",
    ">>\t__rshift__(self, other)\n",
    "<<\t__lshift__(self, other)\n",
    "&\t__and__(self, other)\n",
    "|\t__or__(self, other)\n",
    "^\t__xor__(self, other)\n",
    "\n",
    "Comparison Operators:\n",
    "    \n",
    "Operator\tMagic Method\n",
    "\n",
    "<\t__lt__(self, other)\n",
    ">\t__gt__(self, other)\n",
    "<=\t__le__(self, other)\n",
    ">=\t__ge__(self, other)\n",
    "==\t__eq__(self, other)\n",
    "!=\t__ne__(self, other)\n",
    "\n",
    "Assignment Operators:\n",
    "\n",
    "Operator\tMagic Method\n",
    "\n",
    "-=\t__isub__(self, other)\n",
    "+=\t__iadd__(self, other)\n",
    "*=\t__imul__(self, other)\n",
    "/=\t__idiv__(self, other)\n",
    "//=\t__ifloordiv__(self, other)\n",
    "%=\t__imod__(self, other)\n",
    "**=\t__ipow__(self, other)\n",
    ">>=\t__irshift__(self, other)\n",
    "<<=\t__ilshift__(self, other)\n",
    "&=\t__iand__(self, other)\n",
    "|=\t__ior__(self, other)\n",
    "^=\t__ixor__(self, other)\n",
    "\n",
    "Unary Operators:\n",
    "\n",
    "Operator\tMagic Method\n",
    "\n",
    "–\t__neg__(self)\n",
    "+\t__pos__(self)\n",
    "~\t__invert__(self)"
   ]
  },
  {
   "cell_type": "markdown",
   "metadata": {},
   "source": [
    "Note: It is not possible to change the number of operands of an operator. \n",
    "For example: If we can not overload a unary operator as a binary operator. The following code will throw a syntax error."
   ]
  },
  {
   "cell_type": "markdown",
   "metadata": {},
   "source": [
    "method overloading\n",
    "python does not support method overloading by default. But there are different ways to achieve method overloading in Python. "
   ]
  },
  {
   "cell_type": "code",
   "execution_count": null,
   "metadata": {},
   "outputs": [],
   "source": [
    "Method 1 (Not The Most Efficient Method):\n",
    "We can use the arguments to make the same function work differently i.e. as per the arguments.\n",
    "# Function to take multiple arguments\n",
    "def add(datatype, *args):\n",
    "\n",
    "\t# if datatype is int\n",
    "\t# initialize answer as 0\n",
    "\tif datatype =='int':\n",
    "\t\tanswer = 0\n",
    "\t\t\n",
    "\t# if datatype is str\n",
    "\t# initialize answer as ''\n",
    "\tif datatype =='str':\n",
    "\t\tanswer =''\n",
    "\n",
    "\t# Traverse through the arguments\n",
    "\tfor x in args:\n",
    "\n",
    "\t\t# This will do addition if the\n",
    "\t\t# arguments are int. Or concatenation\n",
    "\t\t# if the arguments are str\n",
    "\t\tanswer = answer + x\n",
    "\n",
    "\tprint(answer)\n",
    "\n",
    "# Integer\n",
    "add('int', 5, 6)\n",
    "\n",
    "# String\n",
    "add('str', 'Hi ', 'Geeks')\n"
   ]
  },
  {
   "cell_type": "code",
   "execution_count": null,
   "metadata": {},
   "outputs": [],
   "source": [
    "Method 2 (Efficient One):\n",
    "By Using Multiple Dispatch Decorator \n",
    "Multiple Dispatch Decorator Can be installed by: \n",
    "from multipledispatch import dispatch\n",
    "\n",
    "#passing one parameter\n",
    "@dispatch(int,int)\n",
    "def product(first,second):\n",
    "\tresult = first*second\n",
    "\tprint(result);\n",
    "\n",
    "#passing two parameters\n",
    "@dispatch(int,int,int)\n",
    "def product(first,second,third):\n",
    "\tresult = first * second * third\n",
    "\tprint(result);\n",
    "\n",
    "#you can also pass data type of any value as per requirement\n",
    "@dispatch(float,float,float)\n",
    "def product(first,second,third):\n",
    "\tresult = first * second * third\n",
    "\tprint(result);\n",
    "\n",
    "\n",
    "#calling product method with 2 arguments\n",
    "product(2,3,2) #this will give output of 12\n",
    "product(2.2,3.4,2.3) # this will give output of 17.985999999999997\n"
   ]
  },
  {
   "cell_type": "code",
   "execution_count": null,
   "metadata": {},
   "outputs": [],
   "source": []
  },
  {
   "cell_type": "code",
   "execution_count": null,
   "metadata": {},
   "outputs": [],
   "source": []
  },
  {
   "cell_type": "code",
   "execution_count": null,
   "metadata": {},
   "outputs": [],
   "source": []
  }
 ],
 "metadata": {
  "kernelspec": {
   "display_name": "Python 3",
   "language": "python",
   "name": "python3"
  },
  "language_info": {
   "codemirror_mode": {
    "name": "ipython",
    "version": 3
   },
   "file_extension": ".py",
   "mimetype": "text/x-python",
   "name": "python",
   "nbconvert_exporter": "python",
   "pygments_lexer": "ipython3",
   "version": "3.6.13"
  }
 },
 "nbformat": 4,
 "nbformat_minor": 5
}
